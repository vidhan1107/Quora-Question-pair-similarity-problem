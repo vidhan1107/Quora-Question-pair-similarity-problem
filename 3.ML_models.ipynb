{
 "cells": [
  {
   "cell_type": "code",
   "execution_count": 1,
   "metadata": {
    "colab": {},
    "colab_type": "code",
    "id": "6VXPfRp-tARR",
    "outputId": "6c27acaf-2c6a-467f-fd7a-68efce98e30b"
   },
   "outputs": [],
   "source": [
    "import pandas as pd\n",
    "import matplotlib.pyplot as plt\n",
    "import warnings\n",
    "import os\n",
    "warnings.filterwarnings(\"ignore\")\n",
    "import datetime as dt\n",
    "import numpy as np\n",
    "from sklearn.preprocessing import normalize\n",
    "import seaborn as sns\n",
    "from sklearn.metrics import confusion_matrix\n",
    "from sklearn.metrics.classification import accuracy_score, log_loss\n",
    "from sklearn.feature_extraction.text import TfidfVectorizer\n",
    "from collections import Counter\n",
    "from scipy.sparse import hstack\n",
    "from collections import Counter, defaultdict\n",
    "from sklearn.calibration import CalibratedClassifierCV\n",
    "from sklearn.model_selection import train_test_split\n",
    "\n",
    "from sklearn.model_selection import cross_val_score\n",
    "from sklearn.linear_model import SGDClassifier\n",
    "\n",
    "from sklearn import model_selection\n",
    "from sklearn.linear_model import LogisticRegression\n",
    "from sklearn.metrics import precision_recall_curve, auc, roc_curve"
   ]
  },
  {
   "cell_type": "markdown",
   "metadata": {},
   "source": [
    "### With Tf-Idf features"
   ]
  },
  {
   "cell_type": "code",
   "execution_count": 2,
   "metadata": {},
   "outputs": [],
   "source": [
    "if os.path.isfile('nlp_features_train.csv'):\n",
    "    dfnlp = pd.read_csv(\"nlp_features_train.csv\",encoding='latin-1')\n",
    "else:\n",
    "    print(\"download nlp_features_train.csv from drive or run previous notebook\")\n",
    "\n",
    "if os.path.isfile('df_fe_without_preprocessing_train.csv'):\n",
    "    dfppro = pd.read_csv(\"df_fe_without_preprocessing_train.csv\",encoding='latin-1')\n",
    "else:\n",
    "    print(\"download df_fe_without_preprocessing_train.csv from drive or run previous notebook\")"
   ]
  },
  {
   "cell_type": "code",
   "execution_count": 3,
   "metadata": {},
   "outputs": [],
   "source": [
    "df1 = dfnlp.drop(['qid1','qid2','question1','question2','is_duplicate'],axis=1)\n",
    "df2 = dfppro.drop(['qid1','qid2','question1','question2','is_duplicate'],axis=1)\n",
    "df3 = dfnlp[['id','question1','question2']]\n",
    "duplicate = dfnlp.is_duplicate"
   ]
  },
  {
   "cell_type": "code",
   "execution_count": 4,
   "metadata": {},
   "outputs": [
    {
     "data": {
      "text/plain": [
       "Index(['id', 'cwc_min', 'cwc_max', 'csc_min', 'csc_max', 'ctc_min', 'ctc_max',\n",
       "       'last_word_eq', 'first_word_eq', 'abs_len_diff', 'mean_len',\n",
       "       'token_set_ratio', 'token_sort_ratio', 'fuzz_ratio',\n",
       "       'fuzz_partial_ratio', 'longest_substr_ratio'],\n",
       "      dtype='object')"
      ]
     },
     "execution_count": 4,
     "metadata": {},
     "output_type": "execute_result"
    }
   ],
   "source": [
    "df1.columns"
   ]
  },
  {
   "cell_type": "code",
   "execution_count": 5,
   "metadata": {},
   "outputs": [
    {
     "data": {
      "text/plain": [
       "Index(['id', 'freq_qid1', 'freq_qid2', 'q1len', 'q2len', 'q1_n_words',\n",
       "       'q2_n_words', 'word_Common', 'word_Total', 'word_share', 'freq_q1+q2',\n",
       "       'freq_q1-q2'],\n",
       "      dtype='object')"
      ]
     },
     "execution_count": 5,
     "metadata": {},
     "output_type": "execute_result"
    }
   ],
   "source": [
    "df2.columns"
   ]
  },
  {
   "cell_type": "code",
   "execution_count": 6,
   "metadata": {},
   "outputs": [
    {
     "data": {
      "text/plain": [
       "Index(['id', 'question1', 'question2'], dtype='object')"
      ]
     },
     "execution_count": 6,
     "metadata": {},
     "output_type": "execute_result"
    }
   ],
   "source": [
    "df3.columns"
   ]
  },
  {
   "cell_type": "code",
   "execution_count": 7,
   "metadata": {},
   "outputs": [],
   "source": [
    "df3 = df3.fillna(' ')\n",
    "df4 = pd.DataFrame()\n",
    "df4['Text'] = df3.question1 + ' ' + df3.question2\n",
    "df4['id'] = df3.id"
   ]
  },
  {
   "cell_type": "code",
   "execution_count": 8,
   "metadata": {},
   "outputs": [
    {
     "name": "stdout",
     "output_type": "stream",
     "text": [
      "what is the step by step guide to invest in share market in india  what is the step by step guide to invest in share market \n"
     ]
    }
   ],
   "source": [
    "print(df4['Text'][0])"
   ]
  },
  {
   "cell_type": "code",
   "execution_count": 9,
   "metadata": {},
   "outputs": [],
   "source": [
    "df2['id']=df1['id']\n",
    "df4['id']=df1['id']\n",
    "df5  = df1.merge(df2, on='id',how='left')\n",
    "final  = df5.merge(df4, on='id',how='left')"
   ]
  },
  {
   "cell_type": "code",
   "execution_count": 10,
   "metadata": {},
   "outputs": [
    {
     "data": {
      "text/plain": [
       "Index(['id', 'cwc_min', 'cwc_max', 'csc_min', 'csc_max', 'ctc_min', 'ctc_max',\n",
       "       'last_word_eq', 'first_word_eq', 'abs_len_diff', 'mean_len',\n",
       "       'token_set_ratio', 'token_sort_ratio', 'fuzz_ratio',\n",
       "       'fuzz_partial_ratio', 'longest_substr_ratio', 'freq_qid1', 'freq_qid2',\n",
       "       'q1len', 'q2len', 'q1_n_words', 'q2_n_words', 'word_Common',\n",
       "       'word_Total', 'word_share', 'freq_q1+q2', 'freq_q1-q2', 'Text'],\n",
       "      dtype='object')"
      ]
     },
     "execution_count": 10,
     "metadata": {},
     "output_type": "execute_result"
    }
   ],
   "source": [
    "final.columns"
   ]
  },
  {
   "cell_type": "code",
   "execution_count": 11,
   "metadata": {},
   "outputs": [],
   "source": [
    "final = final.drop('id',axis=1)"
   ]
  },
  {
   "cell_type": "code",
   "execution_count": 12,
   "metadata": {},
   "outputs": [
    {
     "data": {
      "text/plain": [
       "(404290, 27)"
      ]
     },
     "execution_count": 12,
     "metadata": {},
     "output_type": "execute_result"
    }
   ],
   "source": [
    "final.shape"
   ]
  },
  {
   "cell_type": "code",
   "execution_count": 13,
   "metadata": {},
   "outputs": [],
   "source": [
    "X = final[:100000]\n",
    "Y = duplicate[:100000]"
   ]
  },
  {
   "cell_type": "markdown",
   "metadata": {},
   "source": [
    "<h2> Random train test split( 70:30) </h2>"
   ]
  },
  {
   "cell_type": "code",
   "execution_count": 14,
   "metadata": {},
   "outputs": [],
   "source": [
    "X_train, X_test, y_train, y_test = train_test_split(X, Y, test_size=0.3, stratify=Y, random_state=42)  "
   ]
  },
  {
   "cell_type": "code",
   "execution_count": 15,
   "metadata": {},
   "outputs": [
    {
     "name": "stdout",
     "output_type": "stream",
     "text": [
      "No of Tfidf features:  67778\n"
     ]
    }
   ],
   "source": [
    "tfidf_vect = TfidfVectorizer(ngram_range=(1,3),max_features=200000, min_df=5)\n",
    "train_tfidf = tfidf_vect.fit_transform(X_train.Text)\n",
    "test_tfidf = tfidf_vect.transform(X_test.Text)\n",
    "print('No of Tfidf features: ',len(tfidf_vect.get_feature_names()))"
   ]
  },
  {
   "cell_type": "code",
   "execution_count": 16,
   "metadata": {},
   "outputs": [],
   "source": [
    "X_train = X_train.drop('Text',axis=1)\n",
    "X_test = X_test.drop('Text',axis=1)"
   ]
  },
  {
   "cell_type": "code",
   "execution_count": 17,
   "metadata": {},
   "outputs": [
    {
     "name": "stdout",
     "output_type": "stream",
     "text": [
      "(70000, 26)\n"
     ]
    }
   ],
   "source": [
    "print(X_train.shape)"
   ]
  },
  {
   "cell_type": "code",
   "execution_count": 18,
   "metadata": {},
   "outputs": [],
   "source": [
    "from scipy.sparse import hstack\n",
    "X_train_tf = hstack((X_train,train_tfidf))\n",
    "X_test_tf = hstack((X_test,test_tfidf))"
   ]
  },
  {
   "cell_type": "code",
   "execution_count": 19,
   "metadata": {},
   "outputs": [
    {
     "data": {
      "text/plain": [
       "<70000x67804 sparse matrix of type '<class 'numpy.float64'>'\n",
       "\twith 3837000 stored elements in COOrdinate format>"
      ]
     },
     "execution_count": 19,
     "metadata": {},
     "output_type": "execute_result"
    }
   ],
   "source": [
    "X_train_tf"
   ]
  },
  {
   "cell_type": "markdown",
   "metadata": {
    "colab_type": "text",
    "id": "ZihvUPvHtARd"
   },
   "source": [
    "<h1>4. Machine Learning Models </h1>"
   ]
  },
  {
   "cell_type": "code",
   "execution_count": 20,
   "metadata": {
    "colab": {},
    "colab_type": "code",
    "id": "1Iw9zCHqtASS",
    "outputId": "910b684b-0876-4dd8-e0d9-457846236833"
   },
   "outputs": [
    {
     "name": "stdout",
     "output_type": "stream",
     "text": [
      "Number of data points in train data : (70000, 67804)\n",
      "Number of data points in test data : (30000, 67804)\n"
     ]
    }
   ],
   "source": [
    "print(\"Number of data points in train data :\",X_train_tf.shape)\n",
    "print(\"Number of data points in test data :\",X_test_tf.shape)"
   ]
  },
  {
   "cell_type": "code",
   "execution_count": 21,
   "metadata": {
    "colab": {},
    "colab_type": "code",
    "id": "0oDV15LJtASY",
    "outputId": "70a1e4eb-3f31-4f1e-a53b-ad972978505d"
   },
   "outputs": [
    {
     "name": "stdout",
     "output_type": "stream",
     "text": [
      "---------- Distribution of output variable in train data ----------\n",
      "train_distr: Counter({0: 43922, 1: 26078})\n",
      "Class 0:  0.6274571428571428 Class 1:  0.3725428571428571\n",
      "---------- Distribution of output variable in test data ----------\n",
      "Class 0:  0.3725333333333333 Class 1:  0.3725333333333333\n"
     ]
    }
   ],
   "source": [
    "print(\"-\"*10, \"Distribution of output variable in train data\", \"-\"*10)\n",
    "train_distr = Counter(y_train)\n",
    "print(\"train_distr:\", train_distr)\n",
    "train_len = len(y_train)\n",
    "print(\"Class 0: \",int(train_distr[0])/train_len,\"Class 1: \", int(train_distr[1])/train_len)\n",
    "print(\"-\"*10, \"Distribution of output variable in test data\", \"-\"*10)\n",
    "test_distr = Counter(y_test)\n",
    "test_len = len(y_test)\n",
    "print(\"Class 0: \",int(test_distr[1])/test_len, \"Class 1: \",int(test_distr[1])/test_len)"
   ]
  },
  {
   "cell_type": "code",
   "execution_count": 22,
   "metadata": {
    "colab": {},
    "colab_type": "code",
    "id": "XfxcPT6jtASg"
   },
   "outputs": [],
   "source": [
    "# This function plots the confusion matrices given y_i, y_i_hat.\n",
    "def plot_confusion_matrix(test_y, predict_y):\n",
    "    C = confusion_matrix(test_y, predict_y)\n",
    "    # C = 9,9 matrix, each cell (i,j) represents number of points of class i are predicted class j\n",
    "    \n",
    "    A =(((C.T)/(C.sum(axis=1))).T)\n",
    "    #divid each element of the confusion matrix with the sum of elements in that column\n",
    "    \n",
    "    # C = [[1, 2],\n",
    "    #     [3, 4]]\n",
    "    # C.T = [[1, 3],\n",
    "    #        [2, 4]]\n",
    "    # C.sum(axis = 1)  axis=0 corresonds to columns and axis=1 corresponds to rows in two diamensional array\n",
    "    # C.sum(axix =1) = [[3, 7]]\n",
    "    # ((C.T)/(C.sum(axis=1))) = [[1/3, 3/7]\n",
    "    #                           [2/3, 4/7]]\n",
    "\n",
    "    # ((C.T)/(C.sum(axis=1))).T = [[1/3, 2/3]\n",
    "    #                           [3/7, 4/7]]\n",
    "    # sum of row elements = 1\n",
    "    \n",
    "    B =(C/C.sum(axis=0))\n",
    "    #divid each element of the confusion matrix with the sum of elements in that row\n",
    "    # C = [[1, 2],\n",
    "    #     [3, 4]]\n",
    "    # C.sum(axis = 0)  axis=0 corresonds to columns and axis=1 corresponds to rows in two diamensional array\n",
    "    # C.sum(axix =0) = [[4, 6]]\n",
    "    # (C/C.sum(axis=0)) = [[1/4, 2/6],\n",
    "    #                      [3/4, 4/6]] \n",
    "    plt.figure(figsize=(20,4))\n",
    "    \n",
    "    labels = [1,2]\n",
    "    # representing A in heatmap format\n",
    "    cmap=sns.light_palette(\"blue\")\n",
    "    plt.subplot(1, 3, 1)\n",
    "    sns.heatmap(C, annot=True, cmap=cmap, fmt=\".3f\", xticklabels=labels, yticklabels=labels)\n",
    "    plt.xlabel('Predicted Class')\n",
    "    plt.ylabel('Original Class')\n",
    "    plt.title(\"Confusion matrix\")\n",
    "    \n",
    "    plt.subplot(1, 3, 2)\n",
    "    sns.heatmap(B, annot=True, cmap=cmap, fmt=\".3f\", xticklabels=labels, yticklabels=labels)\n",
    "    plt.xlabel('Predicted Class')\n",
    "    plt.ylabel('Original Class')\n",
    "    plt.title(\"Precision matrix\")\n",
    "    \n",
    "    plt.subplot(1, 3, 3)\n",
    "    # representing B in heatmap format\n",
    "    sns.heatmap(A, annot=True, cmap=cmap, fmt=\".3f\", xticklabels=labels, yticklabels=labels)\n",
    "    plt.xlabel('Predicted Class')\n",
    "    plt.ylabel('Original Class')\n",
    "    plt.title(\"Recall matrix\")\n",
    "    \n",
    "    plt.show()"
   ]
  },
  {
   "cell_type": "markdown",
   "metadata": {
    "colab_type": "text",
    "id": "UStQJ5F_tASk"
   },
   "source": [
    "<h2> 4.4 Building a random model (Finding worst-case log-loss) </h2>"
   ]
  },
  {
   "cell_type": "code",
   "execution_count": 23,
   "metadata": {
    "colab": {},
    "colab_type": "code",
    "id": "qwMDqcU7tASl",
    "outputId": "c1e90d53-25ec-445b-e33a-299538520e32"
   },
   "outputs": [
    {
     "name": "stdout",
     "output_type": "stream",
     "text": [
      "Log loss on Test Data using Random Model 0.8992784523713171\n"
     ]
    },
    {
     "data": {
      "image/png": "[encoded data removed]",
      "text/plain": [
       "<Figure size 1440x288 with 6 Axes>"
      ]
     },
     "metadata": {
      "needs_background": "light"
     },
     "output_type": "display_data"
    }
   ],
   "source": [
    "# we need to generate 9 numbers and the sum of numbers should be 1\n",
    "# one solution is to genarate 9 numbers and divide each of the numbers by their sum\n",
    "# ref: https://stackoverflow.com/a/18662466/4084039\n",
    "# we create a output array that has exactly same size as the CV data\n",
    "predicted_y = np.zeros((test_len,2))\n",
    "for i in range(test_len):\n",
    "    rand_probs = np.random.rand(1,2)\n",
    "    predicted_y[i] = ((rand_probs/sum(sum(rand_probs)))[0])\n",
    "print(\"Log loss on Test Data using Random Model\",log_loss(y_test, predicted_y, eps=1e-15))\n",
    "\n",
    "predicted_y =np.argmax(predicted_y, axis=1)\n",
    "plot_confusion_matrix(y_test, predicted_y)"
   ]
  },
  {
   "cell_type": "markdown",
   "metadata": {
    "colab_type": "text",
    "id": "YgY29g_qtASq"
   },
   "source": [
    "<h2> 4.4 Logistic Regression with hyperparameter tuning </h2>"
   ]
  },
  {
   "cell_type": "code",
   "execution_count": 24,
   "metadata": {},
   "outputs": [],
   "source": [
    "from sklearn.preprocessing import StandardScaler\n",
    "scale = StandardScaler(with_mean=False)\n",
    "X_train_standardized = scale.fit_transform(X_train_tf)\n",
    "X_test_standardized = scale.transform(X_test_tf)"
   ]
  },
  {
   "cell_type": "code",
   "execution_count": 25,
   "metadata": {
    "colab": {},
    "colab_type": "code",
    "id": "Wb2tOE3GtASr",
    "outputId": "d7e4fc88-7d4e-4313-cda7-462a2409292e"
   },
   "outputs": [
    {
     "name": "stdout",
     "output_type": "stream",
     "text": [
      "For values of alpha =  1e-05 The log loss is: 0.48493413553237813\n",
      "For values of alpha =  0.0001 The log loss is: 0.48547234194790606\n",
      "For values of alpha =  0.001 The log loss is: 0.4849446312740627\n",
      "For values of alpha =  0.01 The log loss is: 0.4839146208819847\n",
      "For values of alpha =  0.1 The log loss is: 0.45481598477557983\n",
      "For values of alpha =  1 The log loss is: 0.43307828002594156\n",
      "For values of alpha =  10 The log loss is: 0.44568680023298873\n"
     ]
    },
    {
     "data": {
      "image/png": "[encoded data removed]",
      "text/plain": [
       "<Figure size 432x288 with 1 Axes>"
      ]
     },
     "metadata": {
      "needs_background": "light"
     },
     "output_type": "display_data"
    },
    {
     "name": "stdout",
     "output_type": "stream",
     "text": [
      "For values of best alpha =  1 The train log loss is: 0.2996696770749686\n",
      "For values of best alpha =  1 The test log loss is: 0.43307828002594156\n",
      "Total number of data points : 30000\n"
     ]
    },
    {
     "data": {
      "image/png": "[encoded data removed]",
      "text/plain": [
       "<Figure size 1440x288 with 6 Axes>"
      ]
     },
     "metadata": {
      "needs_background": "light"
     },
     "output_type": "display_data"
    }
   ],
   "source": [
    "alpha = [10 ** x for x in range(-5, 2)] # hyperparam for SGD classifier.\n",
    "\n",
    "# read more about SGDClassifier() at http://scikit-learn.org/stable/modules/generated/sklearn.linear_model.SGDClassifier.html\n",
    "# ------------------------------\n",
    "# default parameters\n",
    "# SGDClassifier(loss=’hinge’, penalty=’l2’, alpha=0.0001, l1_ratio=0.15, fit_intercept=True, max_iter=None, tol=None, \n",
    "# shuffle=True, verbose=0, epsilon=0.1, n_jobs=1, random_state=None, learning_rate=’optimal’, eta0=0.0, power_t=0.5, \n",
    "# class_weight=None, warm_start=False, average=False, n_iter=None)\n",
    "\n",
    "# some of methods\n",
    "# fit(X, y[, coef_init, intercept_init, …])\tFit linear model with Stochastic Gradient Descent.\n",
    "# predict(X)\tPredict class labels for samples in X.\n",
    "\n",
    "#-------------------------------\n",
    "# video link: \n",
    "#------------------------------\n",
    "\n",
    "\n",
    "log_error_array=[]\n",
    "for i in alpha:\n",
    "    clf = SGDClassifier(alpha=i, penalty='l2', loss='log', class_weight='balanced' , random_state=42)\n",
    "    clf.fit(X_train_standardized, y_train)\n",
    "    sig_clf = CalibratedClassifierCV(clf, method=\"sigmoid\")\n",
    "    sig_clf.fit(X_train_standardized, y_train)\n",
    "    predict_y = sig_clf.predict_proba(X_test_standardized)\n",
    "    log_error_array.append(log_loss(y_test, predict_y, labels=clf.classes_, eps=1e-15))\n",
    "    print('For values of alpha = ', i, \"The log loss is:\",log_loss(y_test, predict_y, labels=clf.classes_, eps=1e-15))\n",
    "\n",
    "fig, ax = plt.subplots()\n",
    "ax.plot(alpha, log_error_array,c='g')\n",
    "for i, txt in enumerate(np.round(log_error_array,3)):\n",
    "    ax.annotate((alpha[i],np.round(txt,3)), (alpha[i],log_error_array[i]))\n",
    "plt.grid()\n",
    "plt.title(\"Cross Validation Error for each alpha\")\n",
    "plt.xlabel(\"Alpha i's\")\n",
    "plt.ylabel(\"Error measure\")\n",
    "plt.show()\n",
    "\n",
    "\n",
    "best_alpha = np.argmin(log_error_array)\n",
    "clf = SGDClassifier(alpha=alpha[best_alpha], penalty='l2', loss='log', class_weight='balanced', random_state=42)\n",
    "clf.fit(X_train_standardized, y_train)\n",
    "sig_clf = CalibratedClassifierCV(clf, method=\"sigmoid\")\n",
    "sig_clf.fit(X_train_standardized, y_train)\n",
    "\n",
    "predict_y = sig_clf.predict_proba(X_train_standardized)\n",
    "print('For values of best alpha = ', alpha[best_alpha], \"The train log loss is:\",log_loss(y_train, predict_y, labels=clf.classes_, eps=1e-15))\n",
    "predict_y = sig_clf.predict_proba(X_test_standardized)\n",
    "print('For values of best alpha = ', alpha[best_alpha], \"The test log loss is:\",log_loss(y_test, predict_y, labels=clf.classes_, eps=1e-15))\n",
    "predicted_y =np.argmax(predict_y,axis=1)\n",
    "print(\"Total number of data points :\", len(predicted_y))\n",
    "plot_confusion_matrix(y_test, predicted_y)"
   ]
  },
  {
   "cell_type": "markdown",
   "metadata": {
    "colab_type": "text",
    "id": "ouQSEnr3tASy"
   },
   "source": [
    "<h2> 4.5 Linear SVM with hyperparameter tuning </h2>"
   ]
  },
  {
   "cell_type": "code",
   "execution_count": 26,
   "metadata": {
    "colab": {},
    "colab_type": "code",
    "id": "AOFfZ5PLtAS0",
    "outputId": "d31eb598-e275-48cb-c49b-98e9eb76d8ba"
   },
   "outputs": [
    {
     "name": "stdout",
     "output_type": "stream",
     "text": [
      "For values of alpha =  1e-05 The log loss is: 0.49831381147210535\n",
      "For values of alpha =  0.0001 The log loss is: 0.5261690005902121\n",
      "For values of alpha =  0.001 The log loss is: 0.5840329479526618\n",
      "For values of alpha =  0.01 The log loss is: 0.6490531407085578\n",
      "For values of alpha =  0.1 The log loss is: 0.6602902109101164\n",
      "For values of alpha =  1 The log loss is: 0.6602801145376358\n",
      "For values of alpha =  10 The log loss is: 0.6602511748207771\n"
     ]
    },
    {
     "data": {
      "image/png": "[encoded data removed]",
      "text/plain": [
       "<Figure size 432x288 with 1 Axes>"
      ]
     },
     "metadata": {
      "needs_background": "light"
     },
     "output_type": "display_data"
    },
    {
     "name": "stdout",
     "output_type": "stream",
     "text": [
      "For values of best alpha =  1e-05 The train log loss is: 0.38200732210093674\n",
      "For values of best alpha =  1e-05 The test log loss is: 0.49831381147210535\n",
      "Total number of data points : 30000\n"
     ]
    },
    {
     "data": {
      "image/png": "[encoded data removed]",
      "text/plain": [
       "<Figure size 1440x288 with 6 Axes>"
      ]
     },
     "metadata": {
      "needs_background": "light"
     },
     "output_type": "display_data"
    }
   ],
   "source": [
    "alpha = [10 ** x for x in range(-5, 2)] # hyperparam for SGD classifier.\n",
    "\n",
    "# read more about SGDClassifier() at http://scikit-learn.org/stable/modules/generated/sklearn.linear_model.SGDClassifier.html\n",
    "# ------------------------------\n",
    "# default parameters\n",
    "# SGDClassifier(loss=’hinge’, penalty=’l2’, alpha=0.0001, l1_ratio=0.15, fit_intercept=True, max_iter=None, tol=None, \n",
    "# shuffle=True, verbose=0, epsilon=0.1, n_jobs=1, random_state=None, learning_rate=’optimal’, eta0=0.0, power_t=0.5, \n",
    "# class_weight=None, warm_start=False, average=False, n_iter=None)\n",
    "\n",
    "# some of methods\n",
    "# fit(X, y[, coef_init, intercept_init, …])\tFit linear model with Stochastic Gradient Descent.\n",
    "# predict(X)\tPredict class labels for samples in X.\n",
    "\n",
    "#-------------------------------\n",
    "# video link: \n",
    "#------------------------------\n",
    "\n",
    "\n",
    "log_error_array=[]\n",
    "for i in alpha:\n",
    "    clf = SGDClassifier(alpha=i, penalty='l1', loss='hinge', class_weight='balanced', random_state=42)\n",
    "    clf.fit(X_train_standardized, y_train)\n",
    "    sig_clf = CalibratedClassifierCV(clf, method=\"sigmoid\")\n",
    "    sig_clf.fit(X_train_standardized, y_train)\n",
    "    predict_y = sig_clf.predict_proba(X_test_standardized)\n",
    "    log_error_array.append(log_loss(y_test, predict_y, labels=clf.classes_, eps=1e-15))\n",
    "    print('For values of alpha = ', i, \"The log loss is:\",log_loss(y_test, predict_y, labels=clf.classes_, eps=1e-15))\n",
    "\n",
    "fig, ax = plt.subplots()\n",
    "ax.plot(alpha, log_error_array,c='g')\n",
    "for i, txt in enumerate(np.round(log_error_array,3)):\n",
    "    ax.annotate((alpha[i],np.round(txt,3)), (alpha[i],log_error_array[i]))\n",
    "plt.grid()\n",
    "plt.title(\"Cross Validation Error for each alpha\")\n",
    "plt.xlabel(\"Alpha i's\")\n",
    "plt.ylabel(\"Error measure\")\n",
    "plt.show()\n",
    "\n",
    "\n",
    "best_alpha = np.argmin(log_error_array)\n",
    "clf = SGDClassifier(alpha=alpha[best_alpha], penalty='l1', loss='hinge', class_weight='balanced', random_state=42)\n",
    "clf.fit(X_train_standardized, y_train)\n",
    "sig_clf = CalibratedClassifierCV(clf, method=\"sigmoid\")\n",
    "sig_clf.fit(X_train_standardized, y_train)\n",
    "\n",
    "predict_y = sig_clf.predict_proba(X_train_standardized)\n",
    "print('For values of best alpha = ', alpha[best_alpha], \"The train log loss is:\",log_loss(y_train, predict_y, labels=clf.classes_, eps=1e-15))\n",
    "predict_y = sig_clf.predict_proba(X_test_standardized)\n",
    "print('For values of best alpha = ', alpha[best_alpha], \"The test log loss is:\",log_loss(y_test, predict_y, labels=clf.classes_, eps=1e-15))\n",
    "predicted_y =np.argmax(predict_y,axis=1)\n",
    "print(\"Total number of data points :\", len(predicted_y))\n",
    "plot_confusion_matrix(y_test, predicted_y)"
   ]
  },
  {
   "cell_type": "markdown",
   "metadata": {
    "colab_type": "text",
    "id": "ZhTJgclztAS6"
   },
   "source": [
    "<h2> 4.6 XGBoost using TFIDF </h2>"
   ]
  },
  {
   "cell_type": "code",
   "execution_count": 27,
   "metadata": {},
   "outputs": [],
   "source": [
    "from xgboost import XGBClassifier\n",
    "from sklearn.model_selection import RandomizedSearchCV"
   ]
  },
  {
   "cell_type": "markdown",
   "metadata": {},
   "source": [
    "### Tuning Hyperparameter for XGBoost"
   ]
  },
  {
   "cell_type": "code",
   "execution_count": 28,
   "metadata": {},
   "outputs": [
    {
     "name": "stdout",
     "output_type": "stream",
     "text": [
      "Best Estimator:  XGBClassifier(base_score=0.5, booster='gbtree', colsample_bylevel=1,\n",
      "       colsample_bytree=1, gamma=3, learning_rate=0.1, max_delta_step=0,\n",
      "       max_depth=9, min_child_weight=1, missing=None, n_estimators=450,\n",
      "       n_jobs=-1, nthread=None, objective='binary:logistic',\n",
      "       random_state=0, reg_alpha=0, reg_lambda=1, scale_pos_weight=1,\n",
      "       seed=None, silent=True, subsample=0.7)\n",
      "Best param:  {'n_estimators': 450, 'max_depth': 9, 'learning_rate': 0.1, 'gamma': 3}\n",
      "Best Score:  -0.31265063130234794\n"
     ]
    }
   ],
   "source": [
    "max_depth =  [1,3,5,7,9]\n",
    "base_learners =  [250, 300, 350, 400, 450, 500]\n",
    "learning_rate = [0.1, 0.2, 0.3, 0.4]\n",
    "gamma = [1,2,3,4]\n",
    "parameters = { 'max_depth' : max_depth, 'n_estimators' : base_learners, 'learning_rate' : learning_rate, 'gamma' : gamma} \n",
    "\n",
    "clf = XGBClassifier(random_state=0, subsample=0.7, n_jobs=-1)\n",
    "randomCV = RandomizedSearchCV(clf, parameters, cv = 5, scoring='neg_log_loss', n_jobs=-1)\n",
    "randomCV.fit(X_train_standardized, y_train)\n",
    "\n",
    "print(\"Best Estimator: \", randomCV.best_estimator_) \n",
    "print(\"Best param: \", randomCV.best_params_)\n",
    "print(\"Best Score: \", randomCV.best_score_)\n",
    "\n",
    "best_depth = randomCV.best_params_['max_depth']\n",
    "best_base_learner = randomCV.best_params_['n_estimators']\n",
    "best_learning_rate = randomCV.best_params_['learning_rate']\n",
    "best_gamma = randomCV.best_params_['gamma']"
   ]
  },
  {
   "cell_type": "code",
   "execution_count": 29,
   "metadata": {},
   "outputs": [
    {
     "name": "stdout",
     "output_type": "stream",
     "text": [
      "The test log loss is: 0.3134092636212042\n"
     ]
    },
    {
     "data": {
      "image/png": "[encoded data removed]",
      "text/plain": [
       "<Figure size 1440x288 with 6 Axes>"
      ]
     },
     "metadata": {
      "needs_background": "light"
     },
     "output_type": "display_data"
    }
   ],
   "source": [
    "clf = XGBClassifier(n_estimators = best_base_learner, max_depth=best_depth, \n",
    "                    learning_rate = best_learning_rate, gamma = best_gamma,\n",
    "                    random_state=0, n_jobs=-1)\n",
    "clf.fit(X_train_standardized, y_train)\n",
    "\n",
    "predict_y = clf.predict_proba(X_test_standardized)\n",
    "print(\"The test log loss is:\",log_loss(y_test, predict_y, eps=1e-15))\n",
    "predicted_y = clf.predict(X_test_standardized)\n",
    "plot_confusion_matrix(y_test, predicted_y)"
   ]
  },
  {
   "cell_type": "markdown",
   "metadata": {},
   "source": [
    "<h2> 4.7 XGBoost using TFIDF W2V </h2>"
   ]
  },
  {
   "cell_type": "code",
   "execution_count": 30,
   "metadata": {},
   "outputs": [],
   "source": [
    "import spacy\n",
    "import en_core_web_sm\n",
    "from tqdm import tqdm"
   ]
  },
  {
   "cell_type": "code",
   "execution_count": 31,
   "metadata": {},
   "outputs": [],
   "source": [
    "X_train, X_test, y_train, y_test = train_test_split(X, Y, test_size=0.3, stratify=Y, random_state=42) "
   ]
  },
  {
   "cell_type": "code",
   "execution_count": 32,
   "metadata": {},
   "outputs": [],
   "source": [
    "# we are converting a dictionary with word as a key, and the idf as a value\n",
    "word2tfidf = dict(zip(tfidf_vect.get_feature_names(), list(tfidf_vect.idf_)))"
   ]
  },
  {
   "cell_type": "code",
   "execution_count": 33,
   "metadata": {},
   "outputs": [],
   "source": [
    "df_train = pd.DataFrame()\n",
    "df_test = pd.DataFrame()"
   ]
  },
  {
   "cell_type": "markdown",
   "metadata": {},
   "source": [
    "- After we find TF-IDF scores, we convert each question to a weighted average of word2vec vectors by these scores.\n",
    "- here we use a pre-trained GLOVE model which comes free with \"Spacy\".\n",
    "- It is trained on Wikipedia and therefore, it is stronger in terms of word semantics. "
   ]
  },
  {
   "cell_type": "code",
   "execution_count": 34,
   "metadata": {},
   "outputs": [
    {
     "name": "stderr",
     "output_type": "stream",
     "text": [
      "100%|████████████████████████████████████| 70000/70000 [16:20<00:00, 71.38it/s]\n"
     ]
    }
   ],
   "source": [
    "# en_vectors_web_lg, which includes over 1 million unique vectors.\n",
    "nlp = spacy.load('en')\n",
    "\n",
    "vecs1 = []\n",
    "# https://github.com/noamraph/tqdm\n",
    "# tqdm is used to print the progress bar\n",
    "for ques in tqdm(list(X_train.Text)):\n",
    "    doc1 = nlp(ques) \n",
    "    # 96 is the number of dimensions of vectors \n",
    "    mean_vec1 = np.zeros([len(doc1), 96])\n",
    "    for word1 in doc1:\n",
    "        # word2vec\n",
    "        vec1 = word1.vector\n",
    "        # fetch df score\n",
    "        try:\n",
    "            idf = word2tfidf[str(word1)]\n",
    "        except:\n",
    "            idf = 0\n",
    "        mean_vec1 += vec1 * idf\n",
    "    mean_vec1 = mean_vec1.mean(axis=0)\n",
    "    vecs1.append(mean_vec1)\n",
    "df_train['train_feats_m'] = list(vecs1)"
   ]
  },
  {
   "cell_type": "code",
   "execution_count": 35,
   "metadata": {},
   "outputs": [
    {
     "name": "stderr",
     "output_type": "stream",
     "text": [
      "100%|████████████████████████████████████| 30000/30000 [07:02<00:00, 71.08it/s]\n"
     ]
    }
   ],
   "source": [
    "vecs2 = []\n",
    "for ques in tqdm(list(X_test.Text)):\n",
    "    doc2 = nlp(ques) \n",
    "    mean_vec2 = np.zeros([len(doc2), 96])\n",
    "    for word2 in doc2:\n",
    "        # word2vec\n",
    "        vec2 = word2.vector\n",
    "        # fetch df score\n",
    "        try:\n",
    "            idf = word2tfidf[str(word2)]\n",
    "        except:\n",
    "            #print word\n",
    "            idf = 0\n",
    "        # compute final vec\n",
    "        mean_vec2 += vec2 * idf\n",
    "    mean_vec2 = mean_vec2.mean(axis=0)\n",
    "    vecs2.append(mean_vec2)\n",
    "df_test['test_feats_m'] = list(vecs2)"
   ]
  },
  {
   "cell_type": "code",
   "execution_count": 36,
   "metadata": {},
   "outputs": [],
   "source": [
    "df3_train1 = pd.DataFrame(df_train.train_feats_m.values.tolist())  \n",
    "df3_test1 = pd.DataFrame(df_test.test_feats_m.values.tolist())  "
   ]
  },
  {
   "cell_type": "code",
   "execution_count": 37,
   "metadata": {},
   "outputs": [
    {
     "data": {
      "text/html": [
       "<div>\n",
       "<style scoped>\n",
       "    .dataframe tbody tr th:only-of-type {\n",
       "        vertical-align: middle;\n",
       "    }\n",
       "\n",
       "    .dataframe tbody tr th {\n",
       "        vertical-align: top;\n",
       "    }\n",
       "\n",
       "    .dataframe thead th {\n",
       "        text-align: right;\n",
       "    }\n",
       "</style>\n",
       "<table border=\"1\" class=\"dataframe\">\n",
       "  <thead>\n",
       "    <tr style=\"text-align: right;\">\n",
       "      <th></th>\n",
       "      <th>0</th>\n",
       "      <th>1</th>\n",
       "      <th>2</th>\n",
       "      <th>3</th>\n",
       "      <th>4</th>\n",
       "      <th>5</th>\n",
       "      <th>6</th>\n",
       "      <th>7</th>\n",
       "      <th>8</th>\n",
       "      <th>9</th>\n",
       "      <th>...</th>\n",
       "      <th>86</th>\n",
       "      <th>87</th>\n",
       "      <th>88</th>\n",
       "      <th>89</th>\n",
       "      <th>90</th>\n",
       "      <th>91</th>\n",
       "      <th>92</th>\n",
       "      <th>93</th>\n",
       "      <th>94</th>\n",
       "      <th>95</th>\n",
       "    </tr>\n",
       "  </thead>\n",
       "  <tbody>\n",
       "    <tr>\n",
       "      <th>0</th>\n",
       "      <td>13.968866</td>\n",
       "      <td>-63.184901</td>\n",
       "      <td>-37.851235</td>\n",
       "      <td>5.811044</td>\n",
       "      <td>-28.498151</td>\n",
       "      <td>38.221898</td>\n",
       "      <td>-11.102179</td>\n",
       "      <td>-8.856164</td>\n",
       "      <td>-13.653149</td>\n",
       "      <td>51.605340</td>\n",
       "      <td>...</td>\n",
       "      <td>44.388344</td>\n",
       "      <td>-25.591820</td>\n",
       "      <td>17.777054</td>\n",
       "      <td>-12.143451</td>\n",
       "      <td>25.609721</td>\n",
       "      <td>-12.511877</td>\n",
       "      <td>-63.601957</td>\n",
       "      <td>19.403670</td>\n",
       "      <td>-54.569699</td>\n",
       "      <td>8.385999</td>\n",
       "    </tr>\n",
       "    <tr>\n",
       "      <th>1</th>\n",
       "      <td>57.384939</td>\n",
       "      <td>-156.107044</td>\n",
       "      <td>-155.951358</td>\n",
       "      <td>-169.042885</td>\n",
       "      <td>-29.829744</td>\n",
       "      <td>-1.305423</td>\n",
       "      <td>8.176800</td>\n",
       "      <td>16.891085</td>\n",
       "      <td>-4.929057</td>\n",
       "      <td>161.156646</td>\n",
       "      <td>...</td>\n",
       "      <td>129.467693</td>\n",
       "      <td>-81.893503</td>\n",
       "      <td>20.823759</td>\n",
       "      <td>76.624976</td>\n",
       "      <td>-74.819907</td>\n",
       "      <td>59.748898</td>\n",
       "      <td>-34.695473</td>\n",
       "      <td>25.233672</td>\n",
       "      <td>-103.738833</td>\n",
       "      <td>140.455101</td>\n",
       "    </tr>\n",
       "    <tr>\n",
       "      <th>2</th>\n",
       "      <td>379.818792</td>\n",
       "      <td>-298.199074</td>\n",
       "      <td>-51.950221</td>\n",
       "      <td>-410.960430</td>\n",
       "      <td>-299.308937</td>\n",
       "      <td>32.468503</td>\n",
       "      <td>510.622082</td>\n",
       "      <td>163.779142</td>\n",
       "      <td>-327.440868</td>\n",
       "      <td>187.608240</td>\n",
       "      <td>...</td>\n",
       "      <td>251.813607</td>\n",
       "      <td>-220.851223</td>\n",
       "      <td>348.802921</td>\n",
       "      <td>267.448963</td>\n",
       "      <td>88.637066</td>\n",
       "      <td>66.761008</td>\n",
       "      <td>-85.489021</td>\n",
       "      <td>73.787878</td>\n",
       "      <td>-257.661417</td>\n",
       "      <td>188.442091</td>\n",
       "    </tr>\n",
       "    <tr>\n",
       "      <th>3</th>\n",
       "      <td>251.250374</td>\n",
       "      <td>-212.124477</td>\n",
       "      <td>-87.309866</td>\n",
       "      <td>-195.449205</td>\n",
       "      <td>-155.368642</td>\n",
       "      <td>-45.421247</td>\n",
       "      <td>255.141276</td>\n",
       "      <td>-43.482507</td>\n",
       "      <td>-55.460201</td>\n",
       "      <td>83.770616</td>\n",
       "      <td>...</td>\n",
       "      <td>104.266868</td>\n",
       "      <td>-15.696414</td>\n",
       "      <td>249.244013</td>\n",
       "      <td>-120.002123</td>\n",
       "      <td>-110.079748</td>\n",
       "      <td>-26.659841</td>\n",
       "      <td>-78.281650</td>\n",
       "      <td>-26.431276</td>\n",
       "      <td>-83.096582</td>\n",
       "      <td>192.098389</td>\n",
       "    </tr>\n",
       "    <tr>\n",
       "      <th>4</th>\n",
       "      <td>80.511562</td>\n",
       "      <td>-75.859897</td>\n",
       "      <td>-83.286019</td>\n",
       "      <td>-115.316456</td>\n",
       "      <td>-103.597393</td>\n",
       "      <td>118.108827</td>\n",
       "      <td>182.983685</td>\n",
       "      <td>80.412911</td>\n",
       "      <td>-34.446471</td>\n",
       "      <td>74.906366</td>\n",
       "      <td>...</td>\n",
       "      <td>85.682100</td>\n",
       "      <td>-25.484628</td>\n",
       "      <td>49.881244</td>\n",
       "      <td>-24.895430</td>\n",
       "      <td>7.729808</td>\n",
       "      <td>-19.803591</td>\n",
       "      <td>-77.589511</td>\n",
       "      <td>-40.827592</td>\n",
       "      <td>-36.905734</td>\n",
       "      <td>62.639007</td>\n",
       "    </tr>\n",
       "  </tbody>\n",
       "</table>\n",
       "<p>5 rows × 96 columns</p>\n",
       "</div>"
      ],
      "text/plain": [
       "           0           1           2           3           4           5   \\\n",
       "0   13.968866  -63.184901  -37.851235    5.811044  -28.498151   38.221898   \n",
       "1   57.384939 -156.107044 -155.951358 -169.042885  -29.829744   -1.305423   \n",
       "2  379.818792 -298.199074  -51.950221 -410.960430 -299.308937   32.468503   \n",
       "3  251.250374 -212.124477  -87.309866 -195.449205 -155.368642  -45.421247   \n",
       "4   80.511562  -75.859897  -83.286019 -115.316456 -103.597393  118.108827   \n",
       "\n",
       "           6           7           8           9      ...              86  \\\n",
       "0  -11.102179   -8.856164  -13.653149   51.605340     ...       44.388344   \n",
       "1    8.176800   16.891085   -4.929057  161.156646     ...      129.467693   \n",
       "2  510.622082  163.779142 -327.440868  187.608240     ...      251.813607   \n",
       "3  255.141276  -43.482507  -55.460201   83.770616     ...      104.266868   \n",
       "4  182.983685   80.412911  -34.446471   74.906366     ...       85.682100   \n",
       "\n",
       "           87          88          89          90         91         92  \\\n",
       "0  -25.591820   17.777054  -12.143451   25.609721 -12.511877 -63.601957   \n",
       "1  -81.893503   20.823759   76.624976  -74.819907  59.748898 -34.695473   \n",
       "2 -220.851223  348.802921  267.448963   88.637066  66.761008 -85.489021   \n",
       "3  -15.696414  249.244013 -120.002123 -110.079748 -26.659841 -78.281650   \n",
       "4  -25.484628   49.881244  -24.895430    7.729808 -19.803591 -77.589511   \n",
       "\n",
       "          93          94          95  \n",
       "0  19.403670  -54.569699    8.385999  \n",
       "1  25.233672 -103.738833  140.455101  \n",
       "2  73.787878 -257.661417  188.442091  \n",
       "3 -26.431276  -83.096582  192.098389  \n",
       "4 -40.827592  -36.905734   62.639007  \n",
       "\n",
       "[5 rows x 96 columns]"
      ]
     },
     "execution_count": 37,
     "metadata": {},
     "output_type": "execute_result"
    }
   ],
   "source": [
    "# Train question tfidf weighted word2vec\n",
    "df3_train1.head()"
   ]
  },
  {
   "cell_type": "code",
   "execution_count": 38,
   "metadata": {},
   "outputs": [
    {
     "data": {
      "text/html": [
       "<div>\n",
       "<style scoped>\n",
       "    .dataframe tbody tr th:only-of-type {\n",
       "        vertical-align: middle;\n",
       "    }\n",
       "\n",
       "    .dataframe tbody tr th {\n",
       "        vertical-align: top;\n",
       "    }\n",
       "\n",
       "    .dataframe thead th {\n",
       "        text-align: right;\n",
       "    }\n",
       "</style>\n",
       "<table border=\"1\" class=\"dataframe\">\n",
       "  <thead>\n",
       "    <tr style=\"text-align: right;\">\n",
       "      <th></th>\n",
       "      <th>0</th>\n",
       "      <th>1</th>\n",
       "      <th>2</th>\n",
       "      <th>3</th>\n",
       "      <th>4</th>\n",
       "      <th>5</th>\n",
       "      <th>6</th>\n",
       "      <th>7</th>\n",
       "      <th>8</th>\n",
       "      <th>9</th>\n",
       "      <th>...</th>\n",
       "      <th>86</th>\n",
       "      <th>87</th>\n",
       "      <th>88</th>\n",
       "      <th>89</th>\n",
       "      <th>90</th>\n",
       "      <th>91</th>\n",
       "      <th>92</th>\n",
       "      <th>93</th>\n",
       "      <th>94</th>\n",
       "      <th>95</th>\n",
       "    </tr>\n",
       "  </thead>\n",
       "  <tbody>\n",
       "    <tr>\n",
       "      <th>0</th>\n",
       "      <td>115.053815</td>\n",
       "      <td>-68.206460</td>\n",
       "      <td>-61.690167</td>\n",
       "      <td>-237.427118</td>\n",
       "      <td>-77.485307</td>\n",
       "      <td>126.888668</td>\n",
       "      <td>116.781959</td>\n",
       "      <td>118.587657</td>\n",
       "      <td>-18.420549</td>\n",
       "      <td>177.489820</td>\n",
       "      <td>...</td>\n",
       "      <td>31.104585</td>\n",
       "      <td>-151.005301</td>\n",
       "      <td>55.904764</td>\n",
       "      <td>58.658291</td>\n",
       "      <td>-76.835143</td>\n",
       "      <td>-40.490978</td>\n",
       "      <td>-12.081293</td>\n",
       "      <td>79.679237</td>\n",
       "      <td>-35.274467</td>\n",
       "      <td>52.851797</td>\n",
       "    </tr>\n",
       "    <tr>\n",
       "      <th>1</th>\n",
       "      <td>-8.273353</td>\n",
       "      <td>-32.834286</td>\n",
       "      <td>-167.776374</td>\n",
       "      <td>-252.763935</td>\n",
       "      <td>-150.039904</td>\n",
       "      <td>154.125622</td>\n",
       "      <td>136.798339</td>\n",
       "      <td>22.501969</td>\n",
       "      <td>70.657251</td>\n",
       "      <td>119.849102</td>\n",
       "      <td>...</td>\n",
       "      <td>143.876671</td>\n",
       "      <td>-120.475489</td>\n",
       "      <td>57.220361</td>\n",
       "      <td>92.748662</td>\n",
       "      <td>-40.930633</td>\n",
       "      <td>94.938886</td>\n",
       "      <td>-107.737926</td>\n",
       "      <td>49.409201</td>\n",
       "      <td>-37.214383</td>\n",
       "      <td>42.510788</td>\n",
       "    </tr>\n",
       "    <tr>\n",
       "      <th>2</th>\n",
       "      <td>110.041769</td>\n",
       "      <td>10.358699</td>\n",
       "      <td>-41.794526</td>\n",
       "      <td>-71.787888</td>\n",
       "      <td>-27.141404</td>\n",
       "      <td>38.615737</td>\n",
       "      <td>134.692381</td>\n",
       "      <td>-2.642109</td>\n",
       "      <td>-11.916205</td>\n",
       "      <td>97.300859</td>\n",
       "      <td>...</td>\n",
       "      <td>-18.788938</td>\n",
       "      <td>63.381909</td>\n",
       "      <td>45.239259</td>\n",
       "      <td>22.850009</td>\n",
       "      <td>-31.748616</td>\n",
       "      <td>-8.182491</td>\n",
       "      <td>-24.454061</td>\n",
       "      <td>11.402220</td>\n",
       "      <td>-83.319843</td>\n",
       "      <td>5.010235</td>\n",
       "    </tr>\n",
       "    <tr>\n",
       "      <th>3</th>\n",
       "      <td>29.611506</td>\n",
       "      <td>-44.567275</td>\n",
       "      <td>-171.106002</td>\n",
       "      <td>-200.169049</td>\n",
       "      <td>-77.815179</td>\n",
       "      <td>79.636048</td>\n",
       "      <td>34.782515</td>\n",
       "      <td>167.700300</td>\n",
       "      <td>-7.647996</td>\n",
       "      <td>60.191667</td>\n",
       "      <td>...</td>\n",
       "      <td>40.450839</td>\n",
       "      <td>-98.483931</td>\n",
       "      <td>150.150521</td>\n",
       "      <td>-33.868922</td>\n",
       "      <td>-62.410260</td>\n",
       "      <td>29.724886</td>\n",
       "      <td>60.465015</td>\n",
       "      <td>15.658334</td>\n",
       "      <td>-20.624266</td>\n",
       "      <td>-13.190531</td>\n",
       "    </tr>\n",
       "    <tr>\n",
       "      <th>4</th>\n",
       "      <td>63.399042</td>\n",
       "      <td>-18.317845</td>\n",
       "      <td>-138.849730</td>\n",
       "      <td>-169.588308</td>\n",
       "      <td>-87.547020</td>\n",
       "      <td>75.461789</td>\n",
       "      <td>156.598059</td>\n",
       "      <td>154.839743</td>\n",
       "      <td>-21.179927</td>\n",
       "      <td>69.350982</td>\n",
       "      <td>...</td>\n",
       "      <td>39.623656</td>\n",
       "      <td>-35.287012</td>\n",
       "      <td>67.822415</td>\n",
       "      <td>117.560754</td>\n",
       "      <td>-2.364232</td>\n",
       "      <td>22.648313</td>\n",
       "      <td>22.964060</td>\n",
       "      <td>26.427688</td>\n",
       "      <td>-48.451892</td>\n",
       "      <td>60.621889</td>\n",
       "    </tr>\n",
       "  </tbody>\n",
       "</table>\n",
       "<p>5 rows × 96 columns</p>\n",
       "</div>"
      ],
      "text/plain": [
       "           0          1           2           3           4           5   \\\n",
       "0  115.053815 -68.206460  -61.690167 -237.427118  -77.485307  126.888668   \n",
       "1   -8.273353 -32.834286 -167.776374 -252.763935 -150.039904  154.125622   \n",
       "2  110.041769  10.358699  -41.794526  -71.787888  -27.141404   38.615737   \n",
       "3   29.611506 -44.567275 -171.106002 -200.169049  -77.815179   79.636048   \n",
       "4   63.399042 -18.317845 -138.849730 -169.588308  -87.547020   75.461789   \n",
       "\n",
       "           6           7          8           9     ...              86  \\\n",
       "0  116.781959  118.587657 -18.420549  177.489820    ...       31.104585   \n",
       "1  136.798339   22.501969  70.657251  119.849102    ...      143.876671   \n",
       "2  134.692381   -2.642109 -11.916205   97.300859    ...      -18.788938   \n",
       "3   34.782515  167.700300  -7.647996   60.191667    ...       40.450839   \n",
       "4  156.598059  154.839743 -21.179927   69.350982    ...       39.623656   \n",
       "\n",
       "           87          88          89         90         91          92  \\\n",
       "0 -151.005301   55.904764   58.658291 -76.835143 -40.490978  -12.081293   \n",
       "1 -120.475489   57.220361   92.748662 -40.930633  94.938886 -107.737926   \n",
       "2   63.381909   45.239259   22.850009 -31.748616  -8.182491  -24.454061   \n",
       "3  -98.483931  150.150521  -33.868922 -62.410260  29.724886   60.465015   \n",
       "4  -35.287012   67.822415  117.560754  -2.364232  22.648313   22.964060   \n",
       "\n",
       "          93         94         95  \n",
       "0  79.679237 -35.274467  52.851797  \n",
       "1  49.409201 -37.214383  42.510788  \n",
       "2  11.402220 -83.319843   5.010235  \n",
       "3  15.658334 -20.624266 -13.190531  \n",
       "4  26.427688 -48.451892  60.621889  \n",
       "\n",
       "[5 rows x 96 columns]"
      ]
     },
     "execution_count": 38,
     "metadata": {},
     "output_type": "execute_result"
    }
   ],
   "source": [
    "# Test question tfidf weighted word2vec\n",
    "df3_test1.head()"
   ]
  },
  {
   "cell_type": "code",
   "execution_count": 39,
   "metadata": {},
   "outputs": [
    {
     "name": "stdout",
     "output_type": "stream",
     "text": [
      "(70000, 26)\n"
     ]
    }
   ],
   "source": [
    "X_train = X_train.drop('Text',axis=1)\n",
    "X_test = X_test.drop('Text',axis=1)\n",
    "\n",
    "print(X_train.shape)"
   ]
  },
  {
   "cell_type": "code",
   "execution_count": 40,
   "metadata": {},
   "outputs": [],
   "source": [
    "from scipy.sparse import hstack\n",
    "X_train_tfw2v = hstack((X_train,df3_train1))\n",
    "X_test_tfw2v = hstack((X_test,df3_test1))"
   ]
  },
  {
   "cell_type": "code",
   "execution_count": 41,
   "metadata": {},
   "outputs": [
    {
     "data": {
      "text/plain": [
       "<70000x122 sparse matrix of type '<class 'numpy.float64'>'\n",
       "\twith 8365084 stored elements in COOrdinate format>"
      ]
     },
     "execution_count": 41,
     "metadata": {},
     "output_type": "execute_result"
    }
   ],
   "source": [
    "X_train_tfw2v"
   ]
  },
  {
   "cell_type": "code",
   "execution_count": 42,
   "metadata": {},
   "outputs": [],
   "source": [
    "from sklearn.preprocessing import StandardScaler\n",
    "scale = StandardScaler(with_mean=False)\n",
    "X_train_tfw2v_standardized = scale.fit_transform(X_train_tfw2v)\n",
    "X_test_tfw2v_standardized = scale.transform(X_test_tfw2v)"
   ]
  },
  {
   "cell_type": "markdown",
   "metadata": {},
   "source": [
    "### Tuning Hyperparameter for XGBoost"
   ]
  },
  {
   "cell_type": "code",
   "execution_count": 43,
   "metadata": {},
   "outputs": [
    {
     "name": "stdout",
     "output_type": "stream",
     "text": [
      "Best Estimator:  XGBClassifier(base_score=0.5, booster='gbtree', colsample_bylevel=1,\n",
      "       colsample_bytree=1, gamma=3, learning_rate=0.1, max_delta_step=0,\n",
      "       max_depth=5, min_child_weight=1, missing=None, n_estimators=350,\n",
      "       n_jobs=-1, nthread=None, objective='binary:logistic',\n",
      "       random_state=0, reg_alpha=0, reg_lambda=1, scale_pos_weight=1,\n",
      "       seed=None, silent=True, subsample=0.7)\n",
      "Best param:  {'n_estimators': 350, 'max_depth': 5, 'learning_rate': 0.1, 'gamma': 3}\n",
      "Best Score:  -0.33869977963165243\n"
     ]
    }
   ],
   "source": [
    "max_depth =  [1,3,5,7,9]\n",
    "base_learners =  [250, 300, 350, 400, 450, 500]\n",
    "learning_rate = [0.1, 0.2, 0.3, 0.4]\n",
    "gamma = [1,2,3,4]\n",
    "parameters = { 'max_depth' : max_depth, 'n_estimators' : base_learners, 'learning_rate' : learning_rate, 'gamma' : gamma} \n",
    "\n",
    "clf = XGBClassifier(random_state=0, subsample=0.7, n_jobs=-1)\n",
    "randomCV = RandomizedSearchCV(clf, parameters, cv = 5, scoring='neg_log_loss', n_jobs=-1)\n",
    "randomCV.fit(X_train_tfw2v_standardized, y_train)\n",
    "\n",
    "print(\"Best Estimator: \", randomCV.best_estimator_) \n",
    "print(\"Best param: \", randomCV.best_params_)\n",
    "print(\"Best Score: \", randomCV.best_score_)\n",
    "\n",
    "best_depth = randomCV.best_params_['max_depth']\n",
    "best_base_learner = randomCV.best_params_['n_estimators']\n",
    "best_learning_rate = randomCV.best_params_['learning_rate']\n",
    "best_gamma = randomCV.best_params_['gamma']"
   ]
  },
  {
   "cell_type": "code",
   "execution_count": 44,
   "metadata": {},
   "outputs": [
    {
     "name": "stdout",
     "output_type": "stream",
     "text": [
      "The test log loss is: 0.3323952443294096\n"
     ]
    },
    {
     "data": {
      "image/png": "[encoded data removed]",
      "text/plain": [
       "<Figure size 1440x288 with 6 Axes>"
      ]
     },
     "metadata": {
      "needs_background": "light"
     },
     "output_type": "display_data"
    }
   ],
   "source": [
    "clf = XGBClassifier(n_estimators = best_base_learner, max_depth=best_depth, \n",
    "                    learning_rate = best_learning_rate, gamma = best_gamma,\n",
    "                    random_state=0, n_jobs=-1)\n",
    "clf.fit(X_train_tfw2v_standardized, y_train)\n",
    "\n",
    "predict_y = clf.predict_proba(X_test_tfw2v_standardized)\n",
    "print(\"The test log loss is:\",log_loss(y_test, predict_y, eps=1e-15))\n",
    "predicted_y = clf.predict(X_test_tfw2v_standardized)\n",
    "plot_confusion_matrix(y_test, predicted_y)"
   ]
  },
  {
   "cell_type": "code",
   "execution_count": 46,
   "metadata": {},
   "outputs": [
    {
     "name": "stdout",
     "output_type": "stream",
     "text": [
      "+-------+-----------------------+----------+\n",
      "| S.NO. |         MODEL         | Log Loss |\n",
      "+-------+-----------------------+----------+\n",
      "|   1   |         Random        |   0.89   |\n",
      "|   2   |  Logistic_Regression  |   0.43   |\n",
      "|   3   |       Linear SVM      |   0.49   |\n",
      "|   4   |   Xgboost with TFIDF  |   0.31   |\n",
      "|   5   | XGBoost with TFIDFW2V |   0.33   |\n",
      "+-------+-----------------------+----------+\n"
     ]
    }
   ],
   "source": [
    "from prettytable import PrettyTable\n",
    "\n",
    "ptable = PrettyTable()\n",
    "\n",
    "# Adding columns\n",
    "ptable.add_column(\"S.NO.\",[1, 2, 3, 4, 5])\n",
    "ptable.add_column(\"MODEL\",['Random','Logistic_Regression','Linear SVM','Xgboost with TFIDF', 'XGBoost with TFIDFW2V'])\n",
    "ptable.add_column(\"Log Loss\",[0.89, 0.43, 0.49, 0.31, 0.33])\n",
    "\n",
    "print(ptable)"
   ]
  },
  {
   "cell_type": "markdown",
   "metadata": {
    "colab_type": "text",
    "id": "WmiIgHOJtATF"
   },
   "source": [
    "<h1> Conclusion </h1>"
   ]
  },
  {
   "cell_type": "markdown",
   "metadata": {
    "colab_type": "text",
    "id": "CWS6JoB0tATF"
   },
   "source": [
    "* Applied Tfidf Vectorization on all train questions including q1 and q2\n",
    "* Applied different machine learning model e.g Logistic Regression , Linear SVM and Xgboost.\n",
    "* Among all models XGBoost gave the best performace"
   ]
  }
 ],
 "metadata": {
  "colab": {
   "name": "4.ML_models.ipynb",
   "provenance": [],
   "version": "0.3.2"
  },
  "kernelspec": {
   "display_name": "Python 3",
   "language": "python",
   "name": "python3"
  },
  "language_info": {
   "codemirror_mode": {
    "name": "ipython",
    "version": 3
   },
   "file_extension": ".py",
   "mimetype": "text/x-python",
   "name": "python",
   "nbconvert_exporter": "python",
   "pygments_lexer": "ipython3",
   "version": "3.7.0"
  }
 },
 "nbformat": 4,
 "nbformat_minor": 1
}
